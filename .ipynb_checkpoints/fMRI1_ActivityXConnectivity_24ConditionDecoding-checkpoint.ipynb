{
 "cells": [
  {
   "cell_type": "markdown",
   "metadata": {},
   "source": [
    "# Master1 - Empirical fMRI analyses, exploratory cohort\n",
    "\n",
    "## Takuya Ito\n",
    "#### 12/10/2019"
   ]
  },
  {
   "cell_type": "code",
   "execution_count": 1,
   "metadata": {},
   "outputs": [],
   "source": [
    "import numpy as np\n",
    "import matplotlib.pyplot as plt\n",
    "%matplotlib inline\n",
    "import os\n",
    "import multiprocessing as mp\n",
    "import scipy.stats as stats\n",
    "os.environ['OMP_NUM_THREADS'] = str(1)\n",
    "import statsmodels.sandbox.stats.multicomp as mc\n",
    "import sklearn\n",
    "import seaborn as sns\n",
    "plt.style.use(\"ggplot\")\n",
    "sns.set_style('whitegrid')\n",
    "plt.rcParams[\"font.family\"] = \"FreeSans\"\n",
    "import nibabel as nib\n",
    "import pandas as pd\n",
    "import sys\n",
    "sys.path.append('glmScripts/')\n",
    "import taskGLMPipeline as tgp\n",
    "import h5py\n",
    "import dimensionality\n",
    "from importlib import reload\n"
   ]
  },
  {
   "cell_type": "markdown",
   "metadata": {},
   "source": [
    "## Set-up subject list and construct global variables"
   ]
  },
  {
   "cell_type": "code",
   "execution_count": 2,
   "metadata": {},
   "outputs": [],
   "source": [
    "## Exploratory subjects\n",
    "subjNums = ['178950','189450','199453','209228','220721','298455','356948','419239','499566','561444','618952','680452','757764','841349','908860',\n",
    "            '103818','113922','121618','130619','137229','151829','158035','171633','179346','190031','200008','210112','221319','299154','361234',\n",
    "            '424939','500222','570243','622236','687163','769064','845458','911849','104416','114217','122317','130720','137532','151930','159744',\n",
    "            '172029','180230','191235','200614','211316','228434','300618','361941','432332','513130','571144','623844','692964','773257','857263',\n",
    "            '926862','105014','114419','122822','130821','137633','152427','160123','172938','180432','192035','200917','211417','239944','303119',\n",
    "            '365343','436239','513736','579665','638049','702133','774663','865363','930449','106521','114823','123521','130922','137936','152831',\n",
    "            '160729','173334','180533','192136','201111','211619','249947','305830','366042','436845','516742','580650','645450','715041','782561',\n",
    "            '871762','942658','106824','117021','123925','131823','138332','153025','162026','173536','180735','192439','201414','211821','251833',\n",
    "            '310621','371843','445543','519950','580751','647858','720337','800941','871964','955465','107018','117122','125222','132017','138837',\n",
    "            '153227','162329','173637','180937','193239','201818','211922','257542','314225','378857','454140','523032','585862','654350','725751',\n",
    "            '803240','872562','959574','107422','117324','125424','133827','142828','153631','164030','173940','182739','194140','202719','212015',\n",
    "            '257845','316633','381543','459453','525541','586460','654754','727553','812746','873968','966975']\n",
    "\n",
    "## Validation subjects\n",
    "#subjNums = ['100206','108020','117930','126325','133928','143224','153934','164636','174437','183034','194443','204521','212823','268749','322224',\n",
    "#             '385450','463040','529953','587664','656253','731140','814548','877269','978578','100408','108222','118124','126426','134021','144832',\n",
    "#             '154229','164939','175338','185139','194645','204622','213017','268850','329844','389357','467351','530635','588565','657659','737960',\n",
    "#             '816653','878877','987074','101006','110007','118225','127933','134324','146331','154532','165638','175742','185341','195445','205119',\n",
    "#             '213421','274542','341834','393247','479762','545345','597869','664757','742549','820745','887373','989987','102311','111009','118831',\n",
    "#             '128632','135528','146432','154936','167036','176441','186141','196144','205725','213522','285345','342129','394956','480141','552241',\n",
    "#             '598568','671855','744553','826454','896879','990366','102513','112516','118932','129028','135629','146533','156031','167440','176845',\n",
    "#             '187850','196346','205826','214423','285446','348545','395756','481042','553344','599671','675661','749058','832651','899885','991267',\n",
    "#             '102614','112920','119126','129129','135932','147636','157336','168745','177645','188145','198350','208226','214726','286347','349244',\n",
    "#             '406432','486759','555651','604537','679568','749361','835657','901442','992774','103111','113316','120212','130013','136227','148133',\n",
    "#             '157437','169545','178748','188549','198451','208327','217429','290136','352738','414229','497865','559457','615744','679770','753150',\n",
    "#             '837560','907656','993675','103414','113619','120414','130114','136833','150726','157942','171330']\n",
    "\n",
    "basedir = '/projects/f_mc1689_1/NetworkDiversity/'\n",
    "\n",
    "# Using final partition\n",
    "networkdef = np.loadtxt('/projects/f_mc1689_1/NetworkDiversity/data/network_partition.txt')\n",
    "networkorder = np.asarray(sorted(range(len(networkdef)), key=lambda k: networkdef[k]))\n",
    "networkorder.shape = (len(networkorder),1)\n",
    "# network mappings for final partition set\n",
    "networkmappings = {'fpn':7, 'vis1':1, 'vis2':2, 'smn':3, 'aud':8, 'lan':6, 'dan':5, 'con':4, 'dmn':9, \n",
    "                   'pmulti':10, 'none1':11, 'none2':12}\n",
    "networks = networkmappings.keys()\n",
    "\n",
    "xticks = {}\n",
    "reorderednetworkaffil = networkdef[networkorder]\n",
    "for net in networks:\n",
    "    netNum = networkmappings[net]\n",
    "    netind = np.where(reorderednetworkaffil==netNum)[0]\n",
    "    tick = np.max(netind)\n",
    "    xticks[tick] = net\n",
    "\n",
    "## General parameters/variables\n",
    "nParcels = 360\n",
    "nSubjs = len(subjNums)\n",
    "\n",
    "glasserfile2 = '//projects/f_mc1689_1/AnalysisTools/ParcelsGlasser2016/Q1-Q6_RelatedParcellation210.LR.CorticalAreas_dil_Colors.32k_fs_RL.dlabel.nii'\n",
    "glasser2 = nib.load(glasserfile2).get_data()\n",
    "glasser2 = np.squeeze(glasser2)\n",
    "\n",
    "sortednets = sorted(xticks.keys())\n",
    "orderednetworks = []\n",
    "for net in sortednets: orderednetworks.append(xticks[net])\n",
    "    \n",
    "networkpalette = ['royalblue','slateblue','paleturquoise','darkorchid','limegreen',\n",
    "                  'lightseagreen','yellow','orchid','r','peru','orange','olivedrab']\n",
    "networkpalette = np.asarray(networkpalette)\n",
    "\n",
    "OrderedNetworks = ['VIS1','VIS2','SMN','CON','DAN','LAN','FPN','AUD','DMN','PMM','VMM','ORA']\n",
    "\n",
    "tasks = {'EMOTION':[0,1],\n",
    "     'GAMBLING':[2,3],\n",
    "     'LANGUAGE':[4,5],\n",
    "     'MOTOR':[6,7,8,9,10,11],\n",
    "     'RELATIONAL':[12,13],\n",
    "     'SOCIAL':[14,15],\n",
    "     'WM':[16,17,18,19,20,21,22,23]}\n",
    "taskNames = ['EMOTION', 'GAMBLING', 'LANGUAGE', 'MOTOR', 'RELATIONAL', 'SOCIAL', 'WM']\n",
    "TRsPerRun = [176,176,253,253,316,316,284,284,232,232,274,274,405,405]\n",
    "restRuns = ['rfMRI_REST1_RL', 'rfMRI_REST1_LR','rfMRI_REST2_RL', 'rfMRI_REST2_LR']\n",
    "taskRuns= ['tfMRI_EMOTION_RL','tfMRI_EMOTION_LR','tfMRI_GAMBLING_RL','tfMRI_GAMBLING_LR',\n",
    "           'tfMRI_LANGUAGE_RL','tfMRI_LANGUAGE_LR','tfMRI_MOTOR_RL','tfMRI_MOTOR_LR',\n",
    "           'tfMRI_RELATIONAL_RL','tfMRI_RELATIONAL_LR','tfMRI_SOCIAL_RL','tfMRI_SOCIAL_LR','tfMRI_WM_RL','tfMRI_WM_LR']"
   ]
  },
  {
   "cell_type": "markdown",
   "metadata": {},
   "source": [
    "# 0.0 Define functions for loading data"
   ]
  },
  {
   "cell_type": "code",
   "execution_count": 3,
   "metadata": {},
   "outputs": [],
   "source": [
    "def loadRestResiduals(subj,model='24pXaCompCorXVolterra',zscore=False,FIR=False):\n",
    "    datafile = '/projects/f_mc1689_1/HCP352Data/data/hcppreprocessedmsmall/parcellated_postproc/' + subj + '_glmOutput_data.h5' \n",
    "    h5f = h5py.File(datafile,'r')\n",
    "    data = []\n",
    "    if FIR:\n",
    "        dataid = 'rfMRI_REST_' + model + '_taskReg_resid_FIR'\n",
    "        data = h5f['taskRegression'][dataid][:]\n",
    "        if zscore:\n",
    "            # Zscore each run separately\n",
    "            runstart = 0\n",
    "            for run in range(4):\n",
    "                runend = runstart + 1195\n",
    "                data[:,runstart:runend] = stats.zscore(data[:,runstart:runend],axis=1)\n",
    "                runstart += 1195\n",
    "                \n",
    "            # Now z-score rest time series as if it were task\n",
    "            trcount = 0\n",
    "            for ntrs in TRsPerRun:\n",
    "                trstart = trcount\n",
    "                trend = trcount + ntrs\n",
    "                data[:,trstart:trend] = stats.zscore(data[:,trstart:trend],axis=1)\n",
    "\n",
    "                trcount += ntrs\n",
    "\n",
    "        data = data.T\n",
    "    else:\n",
    "        for run in restRuns:\n",
    "            dataid = run + '/nuisanceReg_resid_' + model\n",
    "            tmp = h5f[dataid][:]\n",
    "            tmp = stats.zscore(tmp,axis=1)\n",
    "            data.extend(tmp.T)\n",
    "    data = np.asarray(data).T\n",
    "    h5f.close()\n",
    "    return data\n",
    "\n",
    "def loadTaskActivity64k(subj,task,model='24pXaCompCorXVolterra'):\n",
    "    datafile = '/projects/f_mc1689_1/HCP352Data/data/hcppreprocessedmsmall/vertexWise/' + subj + '_glmOutput_64k_data.h5' \n",
    "    h5f = h5py.File(datafile,'r')\n",
    "    dataid = task + '_' + model + '_taskReg_betas_canonical'\n",
    "    betas = h5f['taskRegression'][dataid]\n",
    "    betas = betas[:,1:]\n",
    "    h5f.close()\n",
    "    return betas\n",
    "\n",
    "def loadTaskResiduals(subj, model='24pXaCompCorXVolterra', taskModel='FIR', zscore=False):\n",
    "    datafile = '/projects/f_mc1689_1/HCP352Data/data/hcppreprocessedmsmall/parcellated_postproc/' + subj + '_glmOutput_data.h5' \n",
    "    h5f = h5py.File(datafile,'r')\n",
    "    resids = []\n",
    "    for task in taskNames:\n",
    "        dataid = 'tfMRI_' + task + '_' + model + '_taskReg_resid_' + taskModel\n",
    "        tmp = h5f['taskRegression'][dataid][:]\n",
    "        if zscore:\n",
    "            nTRsPerRun = int(tmp.shape[1]/2)\n",
    "            tmp[:,:nTRsPerRun] = stats.zscore(tmp[:,:nTRsPerRun],axis=1)\n",
    "            tmp[:,nTRsPerRun:] = stats.zscore(tmp[:,nTRsPerRun:],axis=1)\n",
    "        resids.extend(tmp.T)\n",
    "    resids = np.asarray(resids).T\n",
    "    h5f.close()\n",
    "    return resids"
   ]
  },
  {
   "cell_type": "markdown",
   "metadata": {},
   "source": [
    "### Main parameters"
   ]
  },
  {
   "cell_type": "code",
   "execution_count": 4,
   "metadata": {},
   "outputs": [],
   "source": [
    "model = '24pXaCompCorXVolterra'\n",
    "zscore = True\n",
    "FIR = True"
   ]
  },
  {
   "cell_type": "markdown",
   "metadata": {},
   "source": [
    "## Compare connectivity of activated regions for task relative to rest, for each condition"
   ]
  },
  {
   "cell_type": "markdown",
   "metadata": {},
   "source": [
    "## Load rest and task data time series"
   ]
  },
  {
   "cell_type": "code",
   "execution_count": 5,
   "metadata": {},
   "outputs": [
    {
     "name": "stdout",
     "output_type": "stream",
     "text": [
      "Loading in data for subject 1 / 176\n",
      "Loading in data for subject 26 / 176\n",
      "Loading in data for subject 51 / 176\n",
      "Loading in data for subject 76 / 176\n",
      "Loading in data for subject 101 / 176\n",
      "Loading in data for subject 126 / 176\n",
      "Loading in data for subject 151 / 176\n",
      "Loading in data for subject 176 / 176\n"
     ]
    }
   ],
   "source": [
    "nTasks = 24\n",
    "restTS = np.zeros((nParcels,4780,len(subjNums)))\n",
    "restTS = np.zeros((nParcels,3810,len(subjNums)))\n",
    "taskTS = np.zeros((nParcels,3810,len(subjNums)))\n",
    "task_timing = np.zeros((3810,nTasks,len(subjNums)))\n",
    "scount = 0\n",
    "for subj in subjNums:\n",
    "    if scount%25==0: print('Loading in data for subject', scount+1, '/', len(subjNums))\n",
    "#     restTS[:,:,scount] = loadRestResiduals(subj,model=model,zscore=zscore,FIR=FIR)\n",
    "    taskTS[:,:,scount] = loadTaskResiduals(subj, model=model, taskModel='FIR', zscore=zscore) # We make this FIR since we only want to use FIR regressed task residuals for FC analysis\n",
    "    task_timing[:,:,scount] = tgp.loadTaskTimingForAllTasks(subj,taskModel='canonical')['taskRegressors']>.5 # Only to obtain which time points to estimate FC with\n",
    "    scount += 1\n",
    "    \n",
    "task_timing = task_timing.astype(bool)\n"
   ]
  },
  {
   "cell_type": "markdown",
   "metadata": {},
   "source": [
    "## Compute task FC for each condition, for each run separately"
   ]
  },
  {
   "cell_type": "code",
   "execution_count": 6,
   "metadata": {
    "jupyter": {
     "outputs_hidden": true
    }
   },
   "outputs": [
    {
     "name": "stdout",
     "output_type": "stream",
     "text": [
      "Subject 0\n",
      "Subject 25\n",
      "Subject 50\n",
      "Subject 75\n",
      "Subject 100\n",
      "Subject 125\n",
      "Subject 150\n",
      "Subject 175\n"
     ]
    }
   ],
   "source": [
    "taskFC_RL = np.zeros((nParcels,nParcels,24,len(subjNums)))\n",
    "taskFC_LR = np.zeros((nParcels,nParcels,24,len(subjNums)))\n",
    "\n",
    "for s in range(len(subjNums)):\n",
    "    if s%25==0: print('Subject ' + str(s))\n",
    "    condcount = 0\n",
    "    trcount = 0\n",
    "    # Find the minimum number of TRs for each task\n",
    "    min_tps = int(np.min(np.sum(task_timing[:,:,s],axis=0))/2.0)\n",
    "    for task in taskNames:\n",
    "        \n",
    "        # Load regressors for data\n",
    "        X = tgp.loadTaskTiming(subj, 'tfMRI_' + task, taskModel='canonical', nRegsFIR=25)\n",
    "\n",
    "        taskRegs = X['taskRegressors'] # These include the two binary regressors\n",
    "        runlength = int(taskRegs.shape[0]/2.0)\n",
    "        \n",
    "        taskRegs_run1 = taskRegs[:runlength,:] > 0.5\n",
    "        taskRegs_run2 = taskRegs[runlength:,:] > 0.5\n",
    "        \n",
    "        # Iterate through conditions        \n",
    "        for cond in range(taskRegs.shape[1]):\n",
    "            # Identify specific tps during task blocks\n",
    "            task_tp_ind = np.where(taskRegs_run1[:,cond])[0]\n",
    "            # Shorten this so that it matches number of TPs of all other tasks\n",
    "            task_tp_ind = task_tp_ind[:min_tps]\n",
    "            # Isolate data for the task\n",
    "            taskTS_RL = taskTS[:,trcount:(trcount+runlength),s]\n",
    "            # Estimate task FC\n",
    "            taskFC_RL[:,:,condcount+cond,s] = np.corrcoef(taskTS_RL[:,task_tp_ind])\n",
    "            np.fill_diagonal(taskFC_RL[:,:,condcount+cond,s],0)\n",
    "\n",
    "            # Go to next run\n",
    "        trcount += runlength\n",
    "        \n",
    "        # Iterate through conditions\n",
    "        for cond in range(taskRegs.shape[1]):\n",
    "            # Identify specific tps during task blocks\n",
    "            task_tp_ind = np.where(taskRegs_run2[:,cond])[0]\n",
    "            # Shorten this so that it matches number of TPs of all other tasks\n",
    "            task_tp_ind = task_tp_ind[:min_tps]\n",
    "            # Isolate data for the task\n",
    "            taskTS_LR = taskTS[:,trcount:(trcount+runlength),s]\n",
    "            # Estimate task FC\n",
    "            taskFC_LR[:,:,condcount+cond,s] = np.corrcoef(taskTS_LR[:,task_tp_ind])\n",
    "            np.fill_diagonal(taskFC_LR[:,:,condcount+cond,s],0)\n",
    "\n",
    "\n",
    "        # Go to next run\n",
    "        trcount += runlength\n",
    "        \n",
    "        # Go to next condition\n",
    "        condcount += taskRegs.shape[1]\n",
    "\n"
   ]
  },
  {
   "cell_type": "markdown",
   "metadata": {},
   "source": [
    "# Compute decodability of connectivity and activity"
   ]
  },
  {
   "cell_type": "markdown",
   "metadata": {},
   "source": [
    "#### Compute connectivity decodability (cross-validated between runs, within-subject)"
   ]
  },
  {
   "cell_type": "code",
   "execution_count": 7,
   "metadata": {},
   "outputs": [],
   "source": [
    "taskFC_LR = np.arctanh(taskFC_LR)\n",
    "taskFC_RL = np.arctanh(taskFC_RL)"
   ]
  },
  {
   "cell_type": "markdown",
   "metadata": {},
   "source": [
    "### Build SVM matrix for connectivity decoding"
   ]
  },
  {
   "cell_type": "code",
   "execution_count": 8,
   "metadata": {},
   "outputs": [],
   "source": [
    "nfeatures = nParcels\n",
    "dec_conn_mat = np.zeros((nTasks*2,nfeatures,nParcels,len(subjNums)))\n",
    "\n",
    "for s in range(len(subjNums)):\n",
    "    for roi in range(nParcels):\n",
    "        sample_cnt = 0\n",
    "        runlabels = []\n",
    "        condlabels = []\n",
    "        for i in range(nTasks):\n",
    "            dec_conn_mat[sample_cnt,:,roi,s] = taskFC_RL[roi,:,i,s]\n",
    "            runlabels.append(1)\n",
    "            condlabels.append(i)\n",
    "            sample_cnt += 1\n",
    "            dec_conn_mat[sample_cnt,:,roi,s] = taskFC_LR[roi,:,i,s]\n",
    "            runlabels.append(2)\n",
    "            condlabels.append(i)\n",
    "            sample_cnt += 1\n",
    "\n",
    "    "
   ]
  },
  {
   "cell_type": "markdown",
   "metadata": {},
   "source": [
    "### Run decoding"
   ]
  },
  {
   "cell_type": "code",
   "execution_count": 9,
   "metadata": {},
   "outputs": [
    {
     "name": "stdout",
     "output_type": "stream",
     "text": [
      "0\n",
      "10\n",
      "20\n",
      "30\n",
      "40\n",
      "50\n",
      "60\n",
      "70\n",
      "80\n",
      "90\n",
      "100\n",
      "110\n",
      "120\n",
      "130\n",
      "140\n",
      "150\n",
      "160\n",
      "170\n",
      "180\n",
      "190\n",
      "200\n",
      "210\n",
      "220\n",
      "230\n",
      "240\n",
      "250\n",
      "260\n",
      "270\n",
      "280\n",
      "290\n",
      "300\n",
      "310\n",
      "320\n",
      "330\n",
      "340\n",
      "350\n"
     ]
    }
   ],
   "source": [
    "import decoding\n",
    "decoding = reload(decoding)\n",
    "\n",
    "conn_decoding_acc = np.zeros((nParcels,len(subjNums)))\n",
    "\n",
    "for roi in range(nParcels):\n",
    "    if roi%10==0: print('Parcel',roi)\n",
    "    conn_decoding_acc[roi,:] = decoding.parallelDecodings(dec_conn_mat[:,:,roi,:],condlabels,runlabels,nproc=10)\n",
    "\n",
    "np.savetxt('conn_decoding_acc_pearsonr.csv',conn_decoding_acc,delimiter=',')"
   ]
  },
  {
   "cell_type": "markdown",
   "metadata": {},
   "source": [
    "#### Delete task FC variables to free up memory"
   ]
  },
  {
   "cell_type": "code",
   "execution_count": 10,
   "metadata": {},
   "outputs": [],
   "source": [
    "del taskFC_LR, taskFC_RL, taskTS, taskTS_RL, taskTS_LR"
   ]
  },
  {
   "cell_type": "markdown",
   "metadata": {},
   "source": [
    "## Compute decodability of regional activation patterns\n"
   ]
  },
  {
   "cell_type": "markdown",
   "metadata": {},
   "source": [
    "### First load in task data"
   ]
  },
  {
   "cell_type": "code",
   "execution_count": 11,
   "metadata": {},
   "outputs": [
    {
     "name": "stdout",
     "output_type": "stream",
     "text": [
      "Loading subject  0\n",
      "Loading subject  25\n",
      "Loading subject  50\n",
      "Loading subject  75\n",
      "Loading subject  100\n",
      "Loading subject  125\n",
      "Loading subject  150\n",
      "Loading subject  175\n"
     ]
    }
   ],
   "source": [
    "taskdata64k = np.zeros((nTasks*2,len(glasser2),len(subjNums)))\n",
    "scount = 0\n",
    "for subj in subjNums:\n",
    "    if scount%25==0: print('Loading subject ', str(scount))\n",
    "\n",
    "    tmp_RL = []\n",
    "    tmp_LR = []\n",
    "    for task in taskNames:\n",
    "        tmp_RL.extend(loadTaskActivity64k(subj, 'tfMRI_' + task + '_RL', model=model).T)\n",
    "        tmp_LR.extend(loadTaskActivity64k(subj, 'tfMRI_' + task + '_LR', model=model).T)\n",
    "\n",
    "    labels_cond = []\n",
    "    labels_run = []\n",
    "    tmp_RL = np.asarray(tmp_RL) # Samples (task conditions) x features\n",
    "    labels_run.extend(np.repeat(1,tmp_RL.shape[0])) # Label RL runs\n",
    "    labels_cond.extend(np.arange(tmp_RL.shape[0]))\n",
    "    tmp_LR = np.asarray(tmp_LR)\n",
    "    labels_run.extend(np.repeat(2,tmp_LR.shape[0])) # Label LR runs\n",
    "    labels_cond.extend(np.arange(tmp_LR.shape[0]))\n",
    "    \n",
    "    taskdata64k[:,:,scount] = np.vstack((tmp_RL,tmp_LR)) # All vertices/rois\n",
    "\n",
    "    scount += 1\n",
    "\n"
   ]
  },
  {
   "cell_type": "markdown",
   "metadata": {},
   "source": [
    "### Build SVM matrix for activity decoding"
   ]
  },
  {
   "cell_type": "code",
   "execution_count": 12,
   "metadata": {
    "collapsed": true,
    "jupyter": {
     "outputs_hidden": true
    }
   },
   "outputs": [
    {
     "name": "stdout",
     "output_type": "stream",
     "text": [
      "Running decoding on parcel  0\n",
      "Running decoding on parcel  25\n",
      "Running decoding on parcel  50\n",
      "Running decoding on parcel  75\n",
      "Running decoding on parcel  100\n",
      "Running decoding on parcel  125\n",
      "Running decoding on parcel  150\n",
      "Running decoding on parcel  175\n",
      "Running decoding on parcel  200\n",
      "Running decoding on parcel  225\n",
      "Running decoding on parcel  250\n",
      "Running decoding on parcel  275\n",
      "Running decoding on parcel  300\n",
      "Running decoding on parcel  325\n",
      "Running decoding on parcel  350\n"
     ]
    }
   ],
   "source": [
    "import decoding\n",
    "decoding = reload(decoding)\n",
    "\n",
    "act_decoding_acc = np.zeros((nParcels,len(subjNums)))\n",
    "dec_act_mat = []\n",
    "for roi in range(nParcels):\n",
    "    if roi%25==0: print('Running decoding on parcel ', roi)\n",
    "    roi_ind = np.where(glasser2==roi+1)[0]\n",
    "    nfeatures = len(roi_ind)\n",
    "    act_svmmat = np.squeeze(taskdata64k[:,roi_ind,:])\n",
    "    \n",
    "    act_decoding_acc[roi,:] = decoding.parallelDecodings(act_svmmat,labels_cond,labels_run,nproc=5)\n",
    "\n",
    "np.savetxt('act_decoding_acc_pearsonr.csv',act_decoding_acc,delimiter=',')"
   ]
  },
  {
   "cell_type": "markdown",
   "metadata": {},
   "source": [
    "# plots"
   ]
  },
  {
   "cell_type": "code",
   "execution_count": 13,
   "metadata": {},
   "outputs": [],
   "source": [
    "connect_dec = np.zeros((len(orderednetworks,)))\n",
    "activit_dec = np.zeros((len(orderednetworks,)))\n",
    "i = 0\n",
    "for net in orderednetworks:\n",
    "    net_ind = np.where(networkdef==networkmappings[net])[0]\n",
    "    connect_dec[i] = np.mean(conn_decoding_acc[net_ind,:])\n",
    "    activit_dec[i] = np.mean(act_decoding_acc[net_ind,:])\n",
    "    i += 1\n"
   ]
  },
  {
   "cell_type": "code",
   "execution_count": 14,
   "metadata": {},
   "outputs": [
    {
     "data": {
      "text/plain": [
       "Text(0.5, 1.0, 'Activity Decodability')"
      ]
     },
     "execution_count": 14,
     "metadata": {},
     "output_type": "execute_result"
    },
    {
     "name": "stderr",
     "output_type": "stream",
     "text": [
      "/projects/f_mc1689_1/AnalysisTools/anaconda3/lib/python3.7/site-packages/matplotlib/font_manager.py:1241: UserWarning: findfont: Font family ['FreeSans'] not found. Falling back to DejaVu Sans.\n",
      "  (prop.get_family(), self.defaultFamily[fontext]))\n",
      "/projects/f_mc1689_1/AnalysisTools/anaconda3/lib/python3.7/site-packages/matplotlib/font_manager.py:1241: UserWarning: findfont: Font family ['FreeSans'] not found. Falling back to DejaVu Sans.\n",
      "  (prop.get_family(), self.defaultFamily[fontext]))\n"
     ]
    },
    {
     "data": {
      "image/png": "[encoded data removed]",
      "text/plain": [
       "<Figure size 1008x360 with 2 Axes>"
      ]
     },
     "metadata": {
      "needs_background": "light"
     },
     "output_type": "display_data"
    }
   ],
   "source": [
    "plt.figure(figsize=(14,5))\n",
    "plt.subplot(121)\n",
    "plt.bar(np.arange(len(connect_dec)),connect_dec)\n",
    "plt.xticks(np.arange(len(connect_dec)),orderednetworks)\n",
    "# plt.ylim([1.25,2])\n",
    "plt.title('Connectivity Decodability')\n",
    "\n",
    "plt.subplot(122)\n",
    "plt.bar(np.arange(len(activit_dec)),activit_dec)\n",
    "plt.xticks(np.arange(len(activit_dec)),orderednetworks)\n",
    "plt.title('Activity Decodability')\n",
    "\n"
   ]
  },
  {
   "cell_type": "markdown",
   "metadata": {},
   "source": [
    "# Run correlation analysis (group-level and within-subject) comparing activity x connectivity decodability"
   ]
  },
  {
   "cell_type": "markdown",
   "metadata": {},
   "source": [
    "#### Group-level correlation"
   ]
  },
  {
   "cell_type": "code",
   "execution_count": 15,
   "metadata": {},
   "outputs": [
    {
     "data": {
      "text/plain": [
       "SpearmanrResult(correlation=-0.362500691255382, pvalue=1.2761199321899298e-12)"
      ]
     },
     "execution_count": 15,
     "metadata": {},
     "output_type": "execute_result"
    }
   ],
   "source": [
    "stats.spearmanr(np.mean(act_decoding_acc,axis=1),np.mean(conn_decoding_acc,axis=1))"
   ]
  },
  {
   "cell_type": "markdown",
   "metadata": {},
   "source": [
    "#### Compute connectivity dimensionality (cross-validated between runs)"
   ]
  },
  {
   "cell_type": "code",
   "execution_count": 179,
   "metadata": {},
   "outputs": [],
   "source": [
    "taskFC_LR = np.arctanh(taskFC_LR)\n",
    "taskFC_RL = np.arctanh(taskFC_RL)"
   ]
  },
  {
   "cell_type": "code",
   "execution_count": 181,
   "metadata": {},
   "outputs": [
    {
     "name": "stdout",
     "output_type": "stream",
     "text": [
      "Subject 0\n",
      "Subject 1\n",
      "Subject 2\n",
      "Subject 3\n",
      "Subject 4\n",
      "Subject 5\n",
      "Subject 6\n",
      "Subject 7\n",
      "Subject 8\n",
      "Subject 9\n",
      "Subject 10\n",
      "Subject 11\n",
      "Subject 12\n",
      "Subject 13\n",
      "Subject 14\n",
      "Subject 15\n",
      "Subject 16\n",
      "Subject 17\n",
      "Subject 18\n",
      "Subject 19\n",
      "Subject 20\n",
      "Subject 21\n",
      "Subject 22\n",
      "Subject 23\n",
      "Subject 24\n",
      "Subject 25\n",
      "Subject 26\n",
      "Subject 27\n",
      "Subject 28\n",
      "Subject 29\n",
      "Subject 30\n",
      "Subject 31\n",
      "Subject 32\n",
      "Subject 33\n",
      "Subject 34\n",
      "Subject 35\n",
      "Subject 36\n",
      "Subject 37\n",
      "Subject 38\n",
      "Subject 39\n",
      "Subject 40\n",
      "Subject 41\n",
      "Subject 42\n",
      "Subject 43\n",
      "Subject 44\n",
      "Subject 45\n",
      "Subject 46\n",
      "Subject 47\n",
      "Subject 48\n",
      "Subject 49\n",
      "Subject 50\n",
      "Subject 51\n",
      "Subject 52\n",
      "Subject 53\n",
      "Subject 54\n",
      "Subject 55\n",
      "Subject 56\n",
      "Subject 57\n",
      "Subject 58\n",
      "Subject 59\n",
      "Subject 60\n",
      "Subject 61\n",
      "Subject 62\n",
      "Subject 63\n",
      "Subject 64\n",
      "Subject 65\n",
      "Subject 66\n",
      "Subject 67\n",
      "Subject 68\n",
      "Subject 69\n",
      "Subject 70\n",
      "Subject 71\n",
      "Subject 72\n",
      "Subject 73\n",
      "Subject 74\n",
      "Subject 75\n",
      "Subject 76\n",
      "Subject 77\n",
      "Subject 78\n",
      "Subject 79\n",
      "Subject 80\n",
      "Subject 81\n",
      "Subject 82\n",
      "Subject 83\n",
      "Subject 84\n",
      "Subject 85\n",
      "Subject 86\n",
      "Subject 87\n",
      "Subject 88\n",
      "Subject 89\n",
      "Subject 90\n",
      "Subject 91\n",
      "Subject 92\n",
      "Subject 93\n",
      "Subject 94\n",
      "Subject 95\n",
      "Subject 96\n",
      "Subject 97\n",
      "Subject 98\n",
      "Subject 99\n",
      "Subject 100\n",
      "Subject 101\n",
      "Subject 102\n",
      "Subject 103\n",
      "Subject 104\n",
      "Subject 105\n",
      "Subject 106\n",
      "Subject 107\n",
      "Subject 108\n",
      "Subject 109\n",
      "Subject 110\n",
      "Subject 111\n",
      "Subject 112\n",
      "Subject 113\n",
      "Subject 114\n",
      "Subject 115\n",
      "Subject 116\n",
      "Subject 117\n",
      "Subject 118\n",
      "Subject 119\n",
      "Subject 120\n",
      "Subject 121\n",
      "Subject 122\n",
      "Subject 123\n",
      "Subject 124\n",
      "Subject 125\n",
      "Subject 126\n",
      "Subject 127\n",
      "Subject 128\n",
      "Subject 129\n",
      "Subject 130\n",
      "Subject 131\n",
      "Subject 132\n",
      "Subject 133\n",
      "Subject 134\n",
      "Subject 135\n",
      "Subject 136\n",
      "Subject 137\n",
      "Subject 138\n",
      "Subject 139\n",
      "Subject 140\n",
      "Subject 141\n",
      "Subject 142\n",
      "Subject 143\n",
      "Subject 144\n",
      "Subject 145\n",
      "Subject 146\n",
      "Subject 147\n",
      "Subject 148\n",
      "Subject 149\n",
      "Subject 150\n",
      "Subject 151\n",
      "Subject 152\n",
      "Subject 153\n",
      "Subject 154\n",
      "Subject 155\n",
      "Subject 156\n",
      "Subject 157\n",
      "Subject 158\n",
      "Subject 159\n",
      "Subject 160\n",
      "Subject 161\n",
      "Subject 162\n",
      "Subject 163\n",
      "Subject 164\n",
      "Subject 165\n",
      "Subject 166\n",
      "Subject 167\n",
      "Subject 168\n",
      "Subject 169\n",
      "Subject 170\n",
      "Subject 171\n",
      "Subject 172\n",
      "Subject 173\n",
      "Subject 174\n",
      "Subject 175\n"
     ]
    }
   ],
   "source": [
    "df_dimensionality = {}\n",
    "df_dimensionality['Parcel'] = []\n",
    "df_dimensionality['Subject'] = []\n",
    "df_dimensionality['Dimensionality'] = []\n",
    "\n",
    "scount = 0\n",
    "for subj in subjNums:\n",
    "    if scount%25==0: print(\"Subject\", scount)\n",
    "    for roi in range(nParcels):\n",
    "        tmp = np.zeros((nTasks,nTasks))\n",
    "        for i in range(nTasks):\n",
    "            for j in range(nTasks):\n",
    "                # Covariance\n",
    "                tmp[i,j] = np.mean(np.multiply(taskFC_LR[roi,:,i,scount],taskFC_RL[roi,:,j,scount]))\n",
    "#                 tmp[i,j] = np.corrcoef(taskFC_LR[roi,:,i,scount],taskFC_RL[roi,:,j,scount])[0,1]\n",
    "                \n",
    "        df_dimensionality['Parcel'].append(roi+1)\n",
    "        df_dimensionality['Subject'].append(subjNums[scount])\n",
    "        df_dimensionality['Dimensionality'].append(dimensionality.getDimensionality(tmp))\n",
    "        \n",
    "    scount += 1\n",
    "\n",
    "    \n",
    "df_dimensionality = pd.DataFrame(df_dimensionality)"
   ]
  },
  {
   "cell_type": "markdown",
   "metadata": {},
   "source": [
    "## Compute dimensionality of activation RDM"
   ]
  },
  {
   "cell_type": "code",
   "execution_count": 186,
   "metadata": {
    "collapsed": true,
    "jupyter": {
     "outputs_hidden": true
    }
   },
   "outputs": [
    {
     "name": "stdout",
     "output_type": "stream",
     "text": [
      "Subject 178950\n",
      "Subject 189450\n",
      "Subject 199453\n",
      "Subject 209228\n",
      "Subject 220721\n",
      "Subject 298455\n",
      "Subject 356948\n",
      "Subject 419239\n",
      "Subject 499566\n",
      "Subject 561444\n",
      "Subject 618952\n",
      "Subject 680452\n",
      "Subject 757764\n",
      "Subject 841349\n",
      "Subject 908860\n",
      "Subject 103818\n",
      "Subject 113922\n",
      "Subject 121618\n",
      "Subject 130619\n",
      "Subject 137229\n",
      "Subject 151829\n",
      "Subject 158035\n",
      "Subject 171633\n",
      "Subject 179346\n",
      "Subject 190031\n",
      "Subject 200008\n",
      "Subject 210112\n",
      "Subject 221319\n",
      "Subject 299154\n",
      "Subject 361234\n",
      "Subject 424939\n",
      "Subject 500222\n",
      "Subject 570243\n",
      "Subject 622236\n",
      "Subject 687163\n",
      "Subject 769064\n",
      "Subject 845458\n",
      "Subject 911849\n",
      "Subject 104416\n",
      "Subject 114217\n",
      "Subject 122317\n",
      "Subject 130720\n",
      "Subject 137532\n",
      "Subject 151930\n",
      "Subject 159744\n",
      "Subject 172029\n",
      "Subject 180230\n",
      "Subject 191235\n",
      "Subject 200614\n",
      "Subject 211316\n",
      "Subject 228434\n",
      "Subject 300618\n",
      "Subject 361941\n",
      "Subject 432332\n",
      "Subject 513130\n",
      "Subject 571144\n",
      "Subject 623844\n",
      "Subject 692964\n",
      "Subject 773257\n",
      "Subject 857263\n",
      "Subject 926862\n",
      "Subject 105014\n",
      "Subject 114419\n",
      "Subject 122822\n",
      "Subject 130821\n",
      "Subject 137633\n",
      "Subject 152427\n",
      "Subject 160123\n",
      "Subject 172938\n",
      "Subject 180432\n",
      "Subject 192035\n",
      "Subject 200917\n",
      "Subject 211417\n",
      "Subject 239944\n",
      "Subject 303119\n",
      "Subject 365343\n",
      "Subject 436239\n",
      "Subject 513736\n",
      "Subject 579665\n",
      "Subject 638049\n",
      "Subject 702133\n",
      "Subject 774663\n",
      "Subject 865363\n",
      "Subject 930449\n",
      "Subject 106521\n",
      "Subject 114823\n",
      "Subject 123521\n",
      "Subject 130922\n",
      "Subject 137936\n",
      "Subject 152831\n",
      "Subject 160729\n",
      "Subject 173334\n",
      "Subject 180533\n",
      "Subject 192136\n",
      "Subject 201111\n",
      "Subject 211619\n",
      "Subject 249947\n",
      "Subject 305830\n",
      "Subject 366042\n",
      "Subject 436845\n",
      "Subject 516742\n",
      "Subject 580650\n",
      "Subject 645450\n",
      "Subject 715041\n",
      "Subject 782561\n",
      "Subject 871762\n",
      "Subject 942658\n",
      "Subject 106824\n",
      "Subject 117021\n",
      "Subject 123925\n",
      "Subject 131823\n",
      "Subject 138332\n",
      "Subject 153025\n",
      "Subject 162026\n",
      "Subject 173536\n",
      "Subject 180735\n",
      "Subject 192439\n",
      "Subject 201414\n",
      "Subject 211821\n",
      "Subject 251833\n",
      "Subject 310621\n",
      "Subject 371843\n",
      "Subject 445543\n",
      "Subject 519950\n",
      "Subject 580751\n",
      "Subject 647858\n",
      "Subject 720337\n",
      "Subject 800941\n",
      "Subject 871964\n",
      "Subject 955465\n",
      "Subject 107018\n",
      "Subject 117122\n",
      "Subject 125222\n",
      "Subject 132017\n",
      "Subject 138837\n",
      "Subject 153227\n",
      "Subject 162329\n",
      "Subject 173637\n",
      "Subject 180937\n",
      "Subject 193239\n",
      "Subject 201818\n",
      "Subject 211922\n",
      "Subject 257542\n",
      "Subject 314225\n",
      "Subject 378857\n",
      "Subject 454140\n",
      "Subject 523032\n",
      "Subject 585862\n",
      "Subject 654350\n",
      "Subject 725751\n",
      "Subject 803240\n",
      "Subject 872562\n",
      "Subject 959574\n",
      "Subject 182739\n",
      "Subject 194140\n",
      "Subject 202719\n",
      "Subject 212015\n",
      "Subject 257845\n",
      "Subject 316633\n",
      "Subject 381543\n",
      "Subject 459453\n",
      "Subject 525541\n",
      "Subject 586460\n",
      "Subject 654754\n",
      "Subject 727553\n",
      "Subject 812746\n",
      "Subject 873968\n",
      "Subject 966975\n"
     ]
    }
   ],
   "source": [
    "taskActivity_RL = np.zeros((len(glasser2),nTasks,len(subjNums)))\n",
    "taskActivity_LR = np.zeros((len(glasser2),nTasks,len(subjNums)))\n",
    "\n",
    "taskActivityDim = np.zeros((nParcels,len(subjNums))) # t-stat, p-value, q-value\n",
    "scount = 0\n",
    "for subj in subjNums:\n",
    "    print('Subject ' + subj)\n",
    "\n",
    "    tmp_RL = []\n",
    "    tmp_LR = []\n",
    "    for task in taskNames:\n",
    "        tmp_RL.extend(loadTaskActivity64k(subj, 'tfMRI_' + task + '_RL', model=model,zscore=zscore).T)\n",
    "        tmp_LR.extend(loadTaskActivity64k(subj, 'tfMRI_' + task + '_LR', model=model,zscore=zscore).T)\n",
    "\n",
    "    tmp_RL = np.asarray(tmp_RL).T\n",
    "    tmp_LR = np.asarray(tmp_LR).T\n",
    "    \n",
    "    roi_rdm = np.zeros((nTasks,nTasks))\n",
    "    for roi in range(nParcels):\n",
    "        roi_ind = np.where(glasser2==roi+1)[0]\n",
    "        \n",
    "        for i in range(nTasks):\n",
    "            for j in range(nTasks):\n",
    "                # Covariance\n",
    "#                 roi_rdm[i,j] = np.mean(np.multiply(tmp_RL[roi_ind,i],tmp_LR[roi_ind,j]))\n",
    "                roi_rdm[i,j] = np.corrcoef(tmp_RL[roi_ind,i],tmp_LR[roi_ind,j])[0,1]\n",
    "        taskActivityDim[roi,scount] = dimensionality.getDimensionality(roi_rdm)\n",
    "        \n",
    "    scount += 1\n"
   ]
  },
  {
   "cell_type": "markdown",
   "metadata": {},
   "source": [
    "# plots"
   ]
  },
  {
   "cell_type": "code",
   "execution_count": 195,
   "metadata": {},
   "outputs": [],
   "source": [
    "conndim_roi = df_dimensionality.groupby(\"Parcel\").mean().values\n",
    "gvc_roi = df_gvc.groupby(\"Parcel\").mean().values\n",
    "\n",
    "network_dims = np.zeros((len(orderednetworks,)))\n",
    "activity_dims = np.zeros((len(orderednetworks,)))\n",
    "gvc_net = np.zeros((len(orderednetworks),))\n",
    "i = 0\n",
    "for net in orderednetworks:\n",
    "    net_ind = np.where(networkdef==networkmappings[net])[0]\n",
    "    network_dims[i] = np.mean(conndim_roi[net_ind])\n",
    "    activity_dims[i] = np.mean(taskActivityDim[net_ind,:])\n",
    "    gvc_net[i] = np.mean(gvc_roi[net_ind,:])\n",
    "    i += 1\n"
   ]
  },
  {
   "cell_type": "code",
   "execution_count": 203,
   "metadata": {},
   "outputs": [
    {
     "data": {
      "image/png": "[encoded data removed]",
      "text/plain": [
       "<Figure size 1008x360 with 2 Axes>"
      ]
     },
     "metadata": {},
     "output_type": "display_data"
    },
    {
     "data": {
      "image/png": "[encoded data removed]",
      "text/plain": [
       "<Figure size 504x360 with 1 Axes>"
      ]
     },
     "metadata": {},
     "output_type": "display_data"
    }
   ],
   "source": [
    "plt.figure(figsize=(14,5))\n",
    "plt.subplot(121)\n",
    "plt.bar(np.arange(len(network_dims)),network_dims)\n",
    "plt.xticks(np.arange(len(network_dims)),orderednetworks)\n",
    "plt.ylim([1.25,2])\n",
    "plt.title('Connectivity Dimensionality')\n",
    "\n",
    "plt.subplot(122)\n",
    "plt.bar(np.arange(len(network_dims)),activity_dims)\n",
    "plt.xticks(np.arange(len(network_dims)),orderednetworks)\n",
    "plt.title('Activation Dimensionality')\n",
    "\n",
    "plt.figure(figsize=(7,5))\n",
    "plt.bar(np.arange(len(gvc_net)),gvc_net)\n",
    "plt.xticks(np.arange(len(network_dims)),orderednetworks)\n",
    "plt.ylim([.15,.2])\n",
    "plt.title('GVC');\n"
   ]
  },
  {
   "cell_type": "code",
   "execution_count": 202,
   "metadata": {},
   "outputs": [
    {
     "name": "stdout",
     "output_type": "stream",
     "text": [
      "\t SpearmanrResult(correlation=-0.8321678321678322, pvalue=0.0007854416778536137)\n"
     ]
    }
   ],
   "source": [
    "print('\\t', stats.spearmanr(network_dims,gvc_net))\n"
   ]
  },
  {
   "cell_type": "code",
   "execution_count": 184,
   "metadata": {},
   "outputs": [
    {
     "name": "stdout",
     "output_type": "stream",
     "text": [
      "Network association of connectivity and activity dimensionality\n",
      "\t SpearmanrResult(correlation=-0.965034965034965, pvalue=3.88098529962746e-07)\n",
      "Regional association of connectivity and activity dimensionality\n",
      "\t SpearmanrResult(correlation=-0.9174872748503717, pvalue=2.129272194617131e-145)\n"
     ]
    }
   ],
   "source": [
    "print(\"Network association of connectivity and activity dimensionality\")\n",
    "print('\\t', stats.spearmanr(activity_dims,network_dims))\n",
    "\n",
    "print(\"Regional association of connectivity and activity dimensionality\")\n",
    "print('\\t', stats.spearmanr(np.mean(taskActivityDim,axis=1),conndim_roi))"
   ]
  },
  {
   "cell_type": "code",
   "execution_count": 185,
   "metadata": {},
   "outputs": [
    {
     "data": {
      "text/plain": [
       "0"
      ]
     },
     "execution_count": 185,
     "metadata": {},
     "output_type": "execute_result"
    }
   ],
   "source": [
    "roidim = np.zeros((glasser2.shape[0],2)) # fc diff, t, p, q\n",
    "\n",
    "for roi in range(nParcels):\n",
    "    roi_ind = np.where(glasser2==roi+1)[0]\n",
    "    \n",
    "    roidim[roi_ind,0] = conndim_roi[roi]\n",
    "    roidim[roi_ind,1] = np.mean(taskActivityDim[roi,:])\n",
    "    \n",
    "# Compute effect size baseline (information content)\n",
    "outdir = '/projects/f_mc1689_1/NetworkDiversity/data/results/'\n",
    "filename = 'ActivityXConn_TaskDimensionality'\n",
    "np.savetxt(outdir + filename + '.csv', roidim,fmt='%s')\n",
    "wb_command = 'wb_command -cifti-convert -from-text ' + outdir + filename + '.csv ' + glasserfile2 + ' ' + outdir + filename + '.dscalar.nii -reset-scalars'\n",
    "os.system(wb_command)"
   ]
  },
  {
   "cell_type": "code",
   "execution_count": null,
   "metadata": {},
   "outputs": [],
   "source": []
  }
 ],
 "metadata": {
  "kernelspec": {
   "display_name": "Python 3",
   "language": "python",
   "name": "python3"
  },
  "language_info": {
   "codemirror_mode": {
    "name": "ipython",
    "version": 3
   },
   "file_extension": ".py",
   "mimetype": "text/x-python",
   "name": "python",
   "nbconvert_exporter": "python",
   "pygments_lexer": "ipython3",
   "version": "3.7.3"
  }
 },
 "nbformat": 4,
 "nbformat_minor": 4
}
