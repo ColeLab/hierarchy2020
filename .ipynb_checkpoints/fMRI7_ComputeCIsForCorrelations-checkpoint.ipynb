{
 "cells": [
  {
   "cell_type": "code",
   "execution_count": 24,
   "metadata": {},
   "outputs": [],
   "source": [
    "import numpy as np\n",
    "import matplotlib.pyplot as plt\n",
    "%matplotlib inline\n",
    "import scipy.stats as stats\n",
    "import statsmodels.sandbox.stats.multicomp as mc\n",
    "import sklearn\n",
    "import seaborn as sns\n",
    "plt.style.use(\"ggplot\")\n",
    "sns.set_style('whitegrid')\n",
    "plt.rcParams[\"font.family\"] = \"Arial\"\n",
    "import nibabel as nib\n",
    "import pandas as pd\n",
    "import sys\n",
    "import h5py\n",
    "from importlib import reload\n",
    "\n",
    "from brainsmash.mapgen.base import Base\n",
    "from brainsmash.mapgen.stats import pearsonr, pairwise_r\n",
    "from brainsmash.mapgen.stats import nonparp\n",
    "\n",
    "\n",
    "glasserfile2 = '../../data/Q1-Q6_RelatedParcellation210.LR.CorticalAreas_dil_Colors.32k_fs_RL.dlabel.nii'\n",
    "glasser2 = nib.load(glasserfile2).get_data()\n",
    "glasser2 = np.squeeze(glasser2)\n",
    "nParcels = 360"
   ]
  },
  {
   "cell_type": "markdown",
   "metadata": {},
   "source": [
    "# Define bootstrap correlation function"
   ]
  },
  {
   "cell_type": "code",
   "execution_count": 55,
   "metadata": {},
   "outputs": [],
   "source": [
    "def bootstrap_corr(a,b,nbootstraps=1000):\n",
    "    n_units = a.shape[0]\n",
    "    ind = np.arange(n_units)\n",
    "    bootstrapped = []\n",
    "    for i in range(nbootstraps):\n",
    "        bootstrap_ind = np.random.choice(ind,size=n_units,replace=True)\n",
    "        bootstrapped.append(stats.pearsonr(a[bootstrap_ind],b[bootstrap_ind])[0])\n",
    "    \n",
    "    # calculate CI\n",
    "    sorted_vals = np.sort(bootstrapped)\n",
    "    lower_ind = int(nbootstraps*0.025)\n",
    "    upper_ind = int(nbootstraps*0.975)\n",
    "    lowerbound = sorted_vals[lower_ind]\n",
    "    upperbound = sorted_vals[upper_ind]\n",
    "    \n",
    "    return sorted_vals, lowerbound, upperbound"
   ]
  },
  {
   "cell_type": "markdown",
   "metadata": {},
   "source": [
    "# Load in data"
   ]
  },
  {
   "cell_type": "code",
   "execution_count": 25,
   "metadata": {},
   "outputs": [
    {
     "name": "stderr",
     "output_type": "stream",
     "text": [
      "pixdim[1,2,3] should be non-zero; setting 0 dims to 1\n",
      "pixdim[1,2,3] should be non-zero; setting 0 dims to 1\n"
     ]
    }
   ],
   "source": [
    "resultdir = '../../data/results/'\n",
    "\n",
    "#### Load time scale data\n",
    "taus_rest = np.loadtxt('../../data/results/Murray_taus_regions_autocorrelation_rest100.txt',delimiter=',')\n",
    "bad_ind = np.where(taus_rest>50)\n",
    "taus_rest[bad_ind] = np.nan\n",
    "# bad_ind = np.where(taus_rest<0)\n",
    "# taus_rest[bad_ind] = np.nan\n",
    "\n",
    "#### Load in myelin data\n",
    "myelinmap = np.squeeze(nib.load('../../data/results/Mean.339.MyelinMap_BC_MSMAll.32k_fs_LR.dscalar.nii').get_data())\n",
    "nvertices = int(glasser2.shape[0]/2)\n",
    "glasser_lr = np.hstack((glasser2[nvertices:],glasser2[:nvertices])) # need to flip this original parcellation\n",
    "myelinmap_parc = np.zeros((nParcels,))\n",
    "for roi in range(nParcels):\n",
    "    roi_ind = np.where(glasser_lr==roi+1)[0]\n",
    "    myelinmap_parc[roi] = np.mean(myelinmap[roi_ind])\n",
    "\n",
    "#### Load in task activation data\n",
    "resultdir = '../../data/results/'\n",
    "h5f = h5py.File(resultdir + 'taskAct_maxActMethod.h5','r')\n",
    "act_alltasks = h5f['data'][:]\n",
    "t_act_peak= np.mean(np.abs(stats.ttest_1samp(act_alltasks,0,axis=2)[0]),axis=1)\n",
    "h5f.close()\n",
    "\n",
    "#### Load in fc change data\n",
    "h5f = h5py.File(resultdir + 'taskGBC_maxActMethod.h5','r')\n",
    "taskgbc = h5f['data'][:]\n",
    "h5f.close()\n",
    "\n",
    "h5f = h5py.File(resultdir + 'restGBC_maxActMethod.h5','r')\n",
    "restgbc = h5f['data'][:]\n",
    "h5f.close()\n",
    "fcchange_peak = taskgbc - restgbc\n",
    "\n",
    "#### Load in Margulies gradient data\n",
    "# RH\n",
    "gradient_rh = np.squeeze(nib.load('../../data/results/margulies2016/hcp.tmp.rh.dscalar.nii').get_data())\n",
    "# Remove all the '0s' in the array\n",
    "nonzero_ind = np.where(gradient_rh!=0)[0]\n",
    "gradient_rh = gradient_rh[nonzero_ind].copy()\n",
    "# LH\n",
    "gradient_lh = np.squeeze(nib.load('../../data/results/margulies2016/hcp.tmp.lh.dscalar.nii').get_data())\n",
    "# Remove all the '0s' in the array\n",
    "nonzero_ind = np.where(gradient_lh!=0)[0]\n",
    "gradient_lh = gradient_lh[nonzero_ind].copy()\n",
    "# Glasser atlas is orgnized R->L hemispheres\n",
    "gradient = np.hstack((gradient_lh,gradient_rh))\n",
    "# Parcellate\n",
    "gradient_parcellated = np.zeros((nParcels,))\n",
    "for roi in range(nParcels):\n",
    "    roi_ind = np.where(glasser2==roi+1)[0]\n",
    "    gradient_parcellated[roi] = np.mean(gradient[roi_ind])\n",
    "\n",
    "#### Load in canonical HRF task activations GLM\n",
    "h5f = h5py.File(resultdir + 'univariate_act.h5','r')\n",
    "act_alltasks2 = h5f['data'][:]\n",
    "t_act = np.mean(np.abs(stats.ttest_1samp(act_alltasks2,0,axis=2)[0]),axis=1)\n",
    "h5f.close()\n",
    "\n",
    "#### Load in FIR based task FC\n",
    "fcchange = np.loadtxt(resultdir + 'conn_taskVrest_gbc_FIR.csv', delimiter=',')\n"
   ]
  },
  {
   "cell_type": "markdown",
   "metadata": {},
   "source": [
    "___\n",
    "# Compute CIs for activity x connectivity correlation (Fig 2)"
   ]
  },
  {
   "cell_type": "code",
   "execution_count": 56,
   "metadata": {},
   "outputs": [
    {
     "name": "stdout",
     "output_type": "stream",
     "text": [
      "Average: -0.2505391690741152 | True: -0.24930617732528879\n",
      "Lower bound: -0.33640500260900863 | Upper bound: -0.15994556350288153\n"
     ]
    }
   ],
   "source": [
    "nbootstraps=1000\n",
    "btstrap_stats, lower_ci, upper_ci = bootstrap_corr(t_act,np.mean(fcchange,axis=1),nbootstraps=nbootstraps)\n",
    "print('Average:', np.mean(btstrap_stats), '| True:', stats.pearsonr(t_act,np.mean(fcchange,axis=1))[0])\n",
    "print('Lower bound:', lower_ci, '| Upper bound:', upper_ci)"
   ]
  },
  {
   "cell_type": "markdown",
   "metadata": {},
   "source": [
    "___\n",
    "# Compute CIs for timescale x activity | timescale x connectivity correlation (Fig 3)"
   ]
  },
  {
   "cell_type": "markdown",
   "metadata": {},
   "source": [
    "#### timescale x task activity"
   ]
  },
  {
   "cell_type": "code",
   "execution_count": 59,
   "metadata": {},
   "outputs": [
    {
     "name": "stdout",
     "output_type": "stream",
     "text": [
      "Average: -0.29969151311378694 | True: -0.30080631875957686\n",
      "Lower bound: -0.37411157466169565 | Upper bound: -0.22757652744319407\n"
     ]
    }
   ],
   "source": [
    "nbootstraps=1000\n",
    "btstrap_stats, lower_ci, upper_ci = bootstrap_corr(t_act,np.nanmean(taus_rest,axis=1),nbootstraps=nbootstraps)\n",
    "print('Average across bootstraps:', np.mean(btstrap_stats), '| True:', stats.pearsonr(t_act,np.nanmean(taus_rest,axis=1))[0])\n",
    "print('Lower bound:', lower_ci, '| Upper bound:', upper_ci)"
   ]
  },
  {
   "cell_type": "markdown",
   "metadata": {},
   "source": [
    "#### timescale x FC change"
   ]
  },
  {
   "cell_type": "code",
   "execution_count": 64,
   "metadata": {},
   "outputs": [
    {
     "name": "stdout",
     "output_type": "stream",
     "text": [
      "Average across bootstraps: 0.3849086098772917 | True: 0.3856306360968391\n",
      "Lower bound: 0.29426558549277776 | Upper bound: 0.46874091534716733\n"
     ]
    }
   ],
   "source": [
    "nbootstraps=1000\n",
    "btstrap_stats, lower_ci, upper_ci = bootstrap_corr(np.mean(fcchange,axis=1),np.nanmean(taus_rest,axis=1),nbootstraps=nbootstraps)\n",
    "print('Average across bootstraps:', np.mean(btstrap_stats), '| True:', stats.pearsonr(np.mean(fcchange,axis=1),np.nanmean(taus_rest,axis=1))[0])\n",
    "print('Lower bound:', lower_ci, '| Upper bound:', upper_ci)"
   ]
  },
  {
   "cell_type": "markdown",
   "metadata": {},
   "source": [
    "___\n",
    "# Compute CIs for myelin map x activity | myelin map x connectivity | myelin map x timescale (Fig 4)"
   ]
  },
  {
   "cell_type": "markdown",
   "metadata": {},
   "source": [
    "#### myelin x task activity"
   ]
  },
  {
   "cell_type": "code",
   "execution_count": 65,
   "metadata": {},
   "outputs": [
    {
     "name": "stdout",
     "output_type": "stream",
     "text": [
      "Average across bootstraps: 0.42132585365425496 | True: 0.4211112781973211\n",
      "Lower bound: 0.32861084738207247 | Upper bound: 0.5113965698602858\n"
     ]
    }
   ],
   "source": [
    "nbootstraps=1000\n",
    "btstrap_stats, lower_ci, upper_ci = bootstrap_corr(t_act,myelinmap_parc,nbootstraps=nbootstraps)\n",
    "print('Average across bootstraps:', np.mean(btstrap_stats), '| True:', stats.pearsonr(t_act,myelinmap_parc)[0])\n",
    "print('Lower bound:', lower_ci, '| Upper bound:', upper_ci)"
   ]
  },
  {
   "cell_type": "markdown",
   "metadata": {},
   "source": [
    "#### myelin x FC change"
   ]
  },
  {
   "cell_type": "code",
   "execution_count": 66,
   "metadata": {},
   "outputs": [
    {
     "name": "stdout",
     "output_type": "stream",
     "text": [
      "Average across bootstraps: -0.4682222975383763 | True: -0.46981880025261735\n",
      "Lower bound: -0.5395224852291862 | Upper bound: -0.3837292566437803\n"
     ]
    }
   ],
   "source": [
    "nbootstraps=1000\n",
    "btstrap_stats, lower_ci, upper_ci = bootstrap_corr(np.mean(fcchange,axis=1),myelinmap_parc,nbootstraps=nbootstraps)\n",
    "print('Average across bootstraps:', np.mean(btstrap_stats), '| True:', stats.pearsonr(np.mean(fcchange,axis=1),myelinmap_parc)[0])\n",
    "print('Lower bound:', lower_ci, '| Upper bound:', upper_ci)"
   ]
  },
  {
   "cell_type": "markdown",
   "metadata": {},
   "source": [
    "#### myelin x timescale"
   ]
  },
  {
   "cell_type": "code",
   "execution_count": 67,
   "metadata": {},
   "outputs": [
    {
     "name": "stdout",
     "output_type": "stream",
     "text": [
      "Average across bootstraps: -0.4485805339895244 | True: -0.44914436840278404\n",
      "Lower bound: -0.5237644994045875 | Upper bound: -0.36946271847648937\n"
     ]
    }
   ],
   "source": [
    "nbootstraps=1000\n",
    "btstrap_stats, lower_ci, upper_ci = bootstrap_corr(np.nanmean(taus_rest,axis=1),myelinmap_parc,nbootstraps=nbootstraps)\n",
    "print('Average across bootstraps:', np.mean(btstrap_stats), '| True:', stats.pearsonr(np.nanmean(taus_rest,axis=1),myelinmap_parc)[0])\n",
    "print('Lower bound:', lower_ci, '| Upper bound:', upper_ci)"
   ]
  },
  {
   "cell_type": "markdown",
   "metadata": {},
   "source": [
    "___\n",
    "# Compute CIs for principal gradient x activity | principal gradient x connectivity | principal gradient x timescale | principal gradient x myelin (Fig 5)"
   ]
  },
  {
   "cell_type": "markdown",
   "metadata": {},
   "source": [
    "#### principal gradient x task activity"
   ]
  },
  {
   "cell_type": "code",
   "execution_count": 68,
   "metadata": {},
   "outputs": [
    {
     "name": "stdout",
     "output_type": "stream",
     "text": [
      "Average across bootstraps: 0.3113488670647638 | True: 0.3124891905553715\n",
      "Lower bound: 0.21388440599832315 | Upper bound: 0.4036880491986322\n"
     ]
    }
   ],
   "source": [
    "nbootstraps=1000\n",
    "btstrap_stats, lower_ci, upper_ci = bootstrap_corr(t_act,gradient_parcellated,nbootstraps=nbootstraps)\n",
    "print('Average across bootstraps:', np.mean(btstrap_stats), '| True:', stats.pearsonr(t_act,gradient_parcellated)[0])\n",
    "print('Lower bound:', lower_ci, '| Upper bound:', upper_ci)"
   ]
  },
  {
   "cell_type": "markdown",
   "metadata": {},
   "source": [
    "#### principal gradient x FC change"
   ]
  },
  {
   "cell_type": "code",
   "execution_count": 69,
   "metadata": {},
   "outputs": [
    {
     "name": "stdout",
     "output_type": "stream",
     "text": [
      "Average across bootstraps: -0.5452338861423207 | True: -0.5436369909150247\n",
      "Lower bound: -0.60280604023608 | Upper bound: -0.4790994370164707\n"
     ]
    }
   ],
   "source": [
    "nbootstraps=1000\n",
    "btstrap_stats, lower_ci, upper_ci = bootstrap_corr(np.mean(fcchange,axis=1),gradient_parcellated,nbootstraps=nbootstraps)\n",
    "print('Average across bootstraps:', np.mean(btstrap_stats), '| True:', stats.pearsonr(np.mean(fcchange,axis=1),gradient_parcellated)[0])\n",
    "print('Lower bound:', lower_ci, '| Upper bound:', upper_ci)"
   ]
  },
  {
   "cell_type": "markdown",
   "metadata": {},
   "source": [
    "#### principal gradient x timescale"
   ]
  },
  {
   "cell_type": "code",
   "execution_count": 70,
   "metadata": {},
   "outputs": [
    {
     "name": "stdout",
     "output_type": "stream",
     "text": [
      "Average across bootstraps: -0.37112076145536993 | True: -0.37105138114305775\n",
      "Lower bound: -0.4327379879773142 | Upper bound: -0.30649524724722804\n"
     ]
    }
   ],
   "source": [
    "nbootstraps=1000\n",
    "btstrap_stats, lower_ci, upper_ci = bootstrap_corr(np.nanmean(taus_rest,axis=1),gradient_parcellated,nbootstraps=nbootstraps)\n",
    "print('Average across bootstraps:', np.mean(btstrap_stats), '| True:', stats.pearsonr(np.nanmean(taus_rest,axis=1),gradient_parcellated)[0])\n",
    "print('Lower bound:', lower_ci, '| Upper bound:', upper_ci)"
   ]
  },
  {
   "cell_type": "markdown",
   "metadata": {},
   "source": [
    "#### principal gradient x myelin"
   ]
  },
  {
   "cell_type": "code",
   "execution_count": 71,
   "metadata": {},
   "outputs": [
    {
     "name": "stdout",
     "output_type": "stream",
     "text": [
      "Average across bootstraps: 0.5266642860450592 | True: 0.5256558653126283\n",
      "Lower bound: 0.46068211605438647 | Upper bound: 0.5905473142795354\n"
     ]
    }
   ],
   "source": [
    "nbootstraps=1000\n",
    "btstrap_stats, lower_ci, upper_ci = bootstrap_corr(gradient_parcellated,myelinmap_parc,nbootstraps=nbootstraps)\n",
    "print('Average across bootstraps:', np.mean(btstrap_stats), '| True:', stats.pearsonr(gradient_parcellated,myelinmap_parc)[0])\n",
    "print('Lower bound:', lower_ci, '| Upper bound:', upper_ci)"
   ]
  }
 ],
 "metadata": {
  "kernelspec": {
   "display_name": "Python 3",
   "language": "python",
   "name": "python3"
  },
  "language_info": {
   "codemirror_mode": {
    "name": "ipython",
    "version": 3
   },
   "file_extension": ".py",
   "mimetype": "text/x-python",
   "name": "python",
   "nbconvert_exporter": "python",
   "pygments_lexer": "ipython3",
   "version": "3.7.3"
  }
 },
 "nbformat": 4,
 "nbformat_minor": 4
}
