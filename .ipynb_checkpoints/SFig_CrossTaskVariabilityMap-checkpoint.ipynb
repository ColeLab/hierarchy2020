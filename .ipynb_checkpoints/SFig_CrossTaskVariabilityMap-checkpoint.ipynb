{
 "cells": [
  {
   "cell_type": "markdown",
   "metadata": {},
   "source": [
    "# Supplementary Figure - calculate cross-task variance of t-values\n",
    "\n",
    "## Takuya Ito\n",
    "#### 05/14/2020"
   ]
  },
  {
   "cell_type": "code",
   "execution_count": 22,
   "metadata": {},
   "outputs": [],
   "source": [
    "import numpy as np\n",
    "import matplotlib.pyplot as plt\n",
    "%matplotlib inline\n",
    "import scipy.stats as stats\n",
    "import statsmodels.sandbox.stats.multicomp as mc\n",
    "import seaborn as sns\n",
    "plt.style.use(\"ggplot\")\n",
    "sns.set_style('whitegrid')\n",
    "plt.rcParams[\"font.family\"] = \"Arial\"\n",
    "import nibabel as nib\n",
    "import pandas as pd\n",
    "import h5py\n",
    "from importlib import reload\n",
    "import os\n",
    "from bootstrap_corr import bootstrap_corr\n",
    "from brainsmash.mapgen.base import Base\n",
    "from brainsmash.mapgen.stats import pearsonr, pairwise_r"
   ]
  },
  {
   "cell_type": "markdown",
   "metadata": {},
   "source": [
    "## Set-up subject list and construct global variables"
   ]
  },
  {
   "cell_type": "code",
   "execution_count": 23,
   "metadata": {},
   "outputs": [],
   "source": [
    "## General parameters/variables \n",
    "nParcels = 360\n",
    "\n",
    "glasserfile2 = '../../data/Q1-Q6_RelatedParcellation210.LR.CorticalAreas_dil_Colors.32k_fs_RL.dlabel.nii'\n",
    "glasser2 = nib.load(glasserfile2).get_data()\n",
    "glasser2 = np.squeeze(glasser2)\n",
    "\n",
    "color1, color2 = sns.color_palette(palette='pastel',n_colors=2)\n",
    "\n",
    "\n",
    "## General parameters/variables\n",
    "nParcels = 360\n",
    "\n",
    "glasserfile2 = '/projects/f_mc1689_1/AnalysisTools/ParcelsGlasser2016/Q1-Q6_RelatedParcellation210.LR.CorticalAreas_dil_Colors.32k_fs_RL.dlabel.nii'\n",
    "glasserfile2 = '../../data/Q1-Q6_RelatedParcellation210.LR.CorticalAreas_dil_Colors.32k_fs_RL.dlabel.nii'\n",
    "glasser2 = nib.load(glasserfile2).get_data()\n",
    "glasser2 = np.squeeze(glasser2)\n",
    "\n",
    "\n"
   ]
  },
  {
   "cell_type": "markdown",
   "metadata": {},
   "source": [
    "# Load in result data\n"
   ]
  },
  {
   "cell_type": "markdown",
   "metadata": {},
   "source": [
    "#### Load in activity data and compute cross-task variance "
   ]
  },
  {
   "cell_type": "code",
   "execution_count": 24,
   "metadata": {},
   "outputs": [],
   "source": [
    "resultdir = '../../data/results/'\n",
    "#\n",
    "activity = np.loadtxt(resultdir + '/activity/activity_canonicalHRF.csv',delimiter=',')\n",
    "crosstask_var = np.std(activity,axis=1)\n",
    "\n",
    "activity_rep = np.loadtxt(resultdir + '/activity/activity_canonicalHRF_replication.csv',delimiter=',')\n",
    "crosstask_var_replication = np.std(activity_rep,axis=1)\n"
   ]
  },
  {
   "cell_type": "markdown",
   "metadata": {},
   "source": [
    "# Create surface maps"
   ]
  },
  {
   "cell_type": "markdown",
   "metadata": {},
   "source": [
    "#### Map cross-task variance of t-statistic activation"
   ]
  },
  {
   "cell_type": "code",
   "execution_count": 25,
   "metadata": {},
   "outputs": [
    {
     "name": "stdout",
     "output_type": "stream",
     "text": [
      "Cross-task SD: Max = 11.390452632717095  | Min = 1.566943520906839\n",
      "Cross-task SD [REPLICATION]: Max = 11.57215028834581  | Min = 1.6095102260081766\n"
     ]
    },
    {
     "data": {
      "text/plain": [
       "0"
      ]
     },
     "execution_count": 25,
     "metadata": {},
     "output_type": "execute_result"
    }
   ],
   "source": [
    "roidec = np.zeros((glasser2.shape[0],2)) \n",
    "print('Cross-task SD: Max =', np.max(crosstask_var), ' | Min =', np.min(crosstask_var))\n",
    "print('Cross-task SD [REPLICATION]: Max =', np.max(crosstask_var_replication), ' | Min =', np.min(crosstask_var_replication))\n",
    "\n",
    "# z-scoring to match color maps from orange-yellow map\n",
    "z_crosstask_var = stats.zscore(crosstask_var)\n",
    "z_crosstask_var_replication = stats.zscore(crosstask_var_replication)\n",
    "\n",
    "for roi in range(nParcels):\n",
    "    roi_ind = np.where(glasser2==roi+1)[0]\n",
    "    \n",
    "    roidec[roi_ind,0] = z_crosstask_var[roi]\n",
    "    roidec[roi_ind,1] = z_crosstask_var_replication[roi]\n",
    "    \n",
    "# Compute effect size baseline (information content)\n",
    "outdir = '../../data/results/'\n",
    "filename = 'CrossTaskSDOfActivity_v1'\n",
    "np.savetxt(outdir + filename + '.csv', roidec,fmt='%s')\n",
    "wb_command = 'wb_command -cifti-convert -from-text ' + outdir + filename + '.csv ' + glasserfile2 + ' ' + outdir + filename + '.dscalar.nii -reset-scalars'\n",
    "os.system(wb_command)\n",
    "\n"
   ]
  }
 ],
 "metadata": {
  "kernelspec": {
   "display_name": "Python 3",
   "language": "python",
   "name": "python3"
  },
  "language_info": {
   "codemirror_mode": {
    "name": "ipython",
    "version": 3
   },
   "file_extension": ".py",
   "mimetype": "text/x-python",
   "name": "python",
   "nbconvert_exporter": "python",
   "pygments_lexer": "ipython3",
   "version": "3.7.3"
  }
 },
 "nbformat": 4,
 "nbformat_minor": 4
}
