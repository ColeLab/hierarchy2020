{
 "cells": [
  {
   "cell_type": "markdown",
   "metadata": {},
   "source": [
    "# Supplementary Figure - calculate cross-task variance of t-values\n",
    "\n",
    "## Takuya Ito\n",
    "#### 05/14/2020"
   ]
  },
  {
   "cell_type": "code",
   "execution_count": 2,
   "metadata": {},
   "outputs": [],
   "source": [
    "import numpy as np\n",
    "from utils.bootstrap_corr import *\n",
    "import matplotlib.pyplot as plt\n",
    "%matplotlib inline\n",
    "import scipy.stats as stats\n",
    "import statsmodels.sandbox.stats.multicomp as mc\n",
    "import seaborn as sns\n",
    "plt.style.use(\"ggplot\")\n",
    "sns.set_style('whitegrid')\n",
    "plt.rcParams[\"font.family\"] = \"Arial\"\n",
    "import nibabel as nib\n",
    "import pandas as pd\n",
    "import h5py\n",
    "from importlib import reload\n",
    "import os\n",
    "from brainsmash.mapgen.base import Base\n",
    "from brainsmash.mapgen.stats import pearsonr, pairwise_r"
   ]
  },
  {
   "cell_type": "markdown",
   "metadata": {},
   "source": [
    "## Set-up parameters"
   ]
  },
  {
   "cell_type": "code",
   "execution_count": 3,
   "metadata": {},
   "outputs": [
    {
     "name": "stderr",
     "output_type": "stream",
     "text": [
      "/Users/tito/miniconda3/lib/python3.7/site-packages/ipykernel_launcher.py:5: DeprecationWarning: get_data() is deprecated in favor of get_fdata(), which has a more predictable return type. To obtain get_data() behavior going forward, use numpy.asanyarray(img.dataobj).\n",
      "\n",
      "* deprecated from version: 3.0\n",
      "* Will raise <class 'nibabel.deprecator.ExpiredDeprecationError'> as of version: 5.0\n",
      "  \"\"\"\n"
     ]
    }
   ],
   "source": [
    "## General parameters/variables \n",
    "nParcels = 360\n",
    "\n",
    "glasserfile2 = '../resultdata/Q1-Q6_RelatedParcellation210.LR.CorticalAreas_dil_Colors.32k_fs_RL.dlabel.nii'\n",
    "glasser2 = nib.load(glasserfile2).get_data()\n",
    "glasser2 = np.squeeze(glasser2)\n",
    "\n",
    "color1, color2 = sns.color_palette(palette='pastel',n_colors=2)\n",
    "\n",
    "# Import network partition\n",
    "networkdef = np.loadtxt('../resultdata/network_partition.txt')\n",
    "# network mappings for final partition set\n",
    "networkmappings = {'fpn':7, 'vis1':1, 'vis2':2, 'smn':3, 'aud':8, 'lan':6, 'dan':5, 'con':4, 'dmn':9, \n",
    "                   'pmulti':10, 'none1':11, 'none2':12}\n",
    "networks = networkmappings.keys()\n",
    " \n",
    "associationnets = ['con','dan','lan','fpn','dmn','pmulti','none1','none2']\n",
    "sensorimotornets = ['vis1','vis2','smn','aud']\n",
    "\n",
    "roi_id = np.zeros((nParcels,))\n",
    "tmp = {}\n",
    "netcount = 0\n",
    "for network in networkmappings:\n",
    "    net = np.where(networkdef==networkmappings[network])[0]\n",
    "    for roi in net:\n",
    "        if network in associationnets:\n",
    "            tmp[roi] = color1 #'r'\n",
    "            roi_id[roi] = -1\n",
    "        else:\n",
    "            tmp[roi] = color2 #'b'\n",
    "            roi_id[roi] = 1\n",
    "    netcount += 1\n",
    "    \n",
    "roiColorsByNetwork = []\n",
    "for roi in range(len(networkdef)):\n",
    "    roiColorsByNetwork.append(tmp[roi])"
   ]
  },
  {
   "cell_type": "markdown",
   "metadata": {},
   "source": [
    "# Load in result data\n"
   ]
  },
  {
   "cell_type": "markdown",
   "metadata": {},
   "source": [
    "#### Load in activity data and compute cross-task variance "
   ]
  },
  {
   "cell_type": "code",
   "execution_count": 5,
   "metadata": {},
   "outputs": [],
   "source": [
    "resultdir = '../resultdata/'\n",
    "#\n",
    "activity = np.loadtxt(resultdir + '/activity/activity_canonicalHRF.csv',delimiter=',')\n",
    "crosstask_var = np.std(activity,axis=1)\n",
    "\n",
    "activity_rep = np.loadtxt(resultdir + '/activity/activity_canonicalHRF_replication.csv',delimiter=',')\n",
    "crosstask_var_replication = np.std(activity_rep,axis=1)\n"
   ]
  },
  {
   "cell_type": "markdown",
   "metadata": {},
   "source": [
    "# Create surface maps"
   ]
  },
  {
   "cell_type": "markdown",
   "metadata": {},
   "source": [
    "#### Map cross-task variance of t-statistic activation"
   ]
  },
  {
   "cell_type": "code",
   "execution_count": 25,
   "metadata": {},
   "outputs": [
    {
     "name": "stdout",
     "output_type": "stream",
     "text": [
      "Cross-task SD: Max = 11.390452632717095  | Min = 1.566943520906839\n",
      "Cross-task SD [REPLICATION]: Max = 11.57215028834581  | Min = 1.6095102260081766\n"
     ]
    },
    {
     "data": {
      "text/plain": [
       "0"
      ]
     },
     "execution_count": 25,
     "metadata": {},
     "output_type": "execute_result"
    }
   ],
   "source": [
    "# roidata = np.zeros((glasser2.shape[0],2)) \n",
    "# print('Cross-task SD: Max =', np.max(crosstask_var), ' | Min =', np.min(crosstask_var))\n",
    "# print('Cross-task SD [REPLICATION]: Max =', np.max(crosstask_var_replication), ' | Min =', np.min(crosstask_var_replication))\n",
    "\n",
    "# # z-scoring to match color maps from orange-yellow map\n",
    "# z_crosstask_var = stats.zscore(crosstask_var)\n",
    "# z_crosstask_var_replication = stats.zscore(crosstask_var_replication)\n",
    "\n",
    "# for roi in range(nParcels):\n",
    "#     roi_ind = np.where(glasser2==roi+1)[0]\n",
    "    \n",
    "#     roidata[roi_ind,0] = z_crosstask_var[roi]\n",
    "#     roidata[roi_ind,1] = z_crosstask_var_replication[roi]\n",
    "    \n",
    "# # Compute effect size baseline (information content)\n",
    "# filename = 'CrossTaskSDOfActivity_v1'\n",
    "# np.savetxt(filename + '.csv', roidata,fmt='%s')\n",
    "# wb_command = 'wb_command -cifti-convert -from-text ' + outdir + filename + '.csv ' + glasserfile2 + ' ' + outdir + filename + '.dscalar.nii -reset-scalars'\n",
    "# os.system(wb_command)\n",
    "\n"
   ]
  }
 ],
 "metadata": {
  "kernelspec": {
   "display_name": "Python 3",
   "language": "python",
   "name": "python3"
  },
  "language_info": {
   "codemirror_mode": {
    "name": "ipython",
    "version": 3
   },
   "file_extension": ".py",
   "mimetype": "text/x-python",
   "name": "python",
   "nbconvert_exporter": "python",
   "pygments_lexer": "ipython3",
   "version": "3.7.6"
  }
 },
 "nbformat": 4,
 "nbformat_minor": 4
}
